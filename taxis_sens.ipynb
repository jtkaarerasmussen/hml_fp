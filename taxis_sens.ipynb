{
 "cells": [
  {
   "cell_type": "code",
   "execution_count": 2,
   "metadata": {},
   "outputs": [],
   "source": [
    "import os\n",
    "import subprocess\n",
    "import numpy as np\n",
    "import csv\n",
    "import matplotlib.pyplot as plt\n",
    "import scipy"
   ]
  },
  {
   "cell_type": "code",
   "execution_count": 48,
   "metadata": {},
   "outputs": [
    {
     "name": "stdout",
     "output_type": "stream",
     "text": [
      "1 / 5,   1 / 30\n"
     ]
    },
    {
     "name": "stderr",
     "output_type": "stream",
     "text": [
      "\u001b[1m\u001b[32m    Finished\u001b[0m dev [unoptimized + debuginfo] target(s) in 0.21s\n",
      "\u001b[1m\u001b[32m     Running\u001b[0m `target/debug/fp 0.0 ../taxis_sens_avg_3/taxis_sens_0/0.0`\n"
     ]
    },
    {
     "name": "stdout",
     "output_type": "stream",
     "text": [
      "1 / 5,   2 / 30\n"
     ]
    },
    {
     "name": "stderr",
     "output_type": "stream",
     "text": [
      "\u001b[1m\u001b[32m    Finished\u001b[0m dev [unoptimized + debuginfo] target(s) in 0.13s\n",
      "\u001b[1m\u001b[32m     Running\u001b[0m `target/debug/fp 0.006896551724137932 ../taxis_sens_avg_3/taxis_sens_0/0.006896551724137932`\n"
     ]
    },
    {
     "name": "stdout",
     "output_type": "stream",
     "text": [
      "1 / 5,   3 / 30\n"
     ]
    },
    {
     "name": "stderr",
     "output_type": "stream",
     "text": [
      "\u001b[1m\u001b[32m    Finished\u001b[0m dev [unoptimized + debuginfo] target(s) in 0.01s\n",
      "\u001b[1m\u001b[32m     Running\u001b[0m `target/debug/fp 0.013793103448275864 ../taxis_sens_avg_3/taxis_sens_0/0.013793103448275864`\n"
     ]
    },
    {
     "name": "stdout",
     "output_type": "stream",
     "text": [
      "1 / 5,   4 / 30\n"
     ]
    },
    {
     "name": "stderr",
     "output_type": "stream",
     "text": [
      "\u001b[1m\u001b[32m    Finished\u001b[0m dev [unoptimized + debuginfo] target(s) in 0.02s\n",
      "\u001b[1m\u001b[32m     Running\u001b[0m `target/debug/fp 0.020689655172413796 ../taxis_sens_avg_3/taxis_sens_0/0.020689655172413796`\n"
     ]
    },
    {
     "name": "stdout",
     "output_type": "stream",
     "text": [
      "1 / 5,   5 / 30\n"
     ]
    },
    {
     "name": "stderr",
     "output_type": "stream",
     "text": [
      "\u001b[1m\u001b[32m    Finished\u001b[0m dev [unoptimized + debuginfo] target(s) in 0.02s\n",
      "\u001b[1m\u001b[32m     Running\u001b[0m `target/debug/fp 0.027586206896551727 ../taxis_sens_avg_3/taxis_sens_0/0.027586206896551727`\n"
     ]
    },
    {
     "name": "stdout",
     "output_type": "stream",
     "text": [
      "1 / 5,   6 / 30\n"
     ]
    },
    {
     "name": "stderr",
     "output_type": "stream",
     "text": [
      "\u001b[1m\u001b[32m    Finished\u001b[0m dev [unoptimized + debuginfo] target(s) in 0.02s\n",
      "\u001b[1m\u001b[32m     Running\u001b[0m `target/debug/fp 0.03448275862068966 ../taxis_sens_avg_3/taxis_sens_0/0.03448275862068966`\n"
     ]
    },
    {
     "name": "stdout",
     "output_type": "stream",
     "text": [
      "1 / 5,   7 / 30\n"
     ]
    },
    {
     "name": "stderr",
     "output_type": "stream",
     "text": [
      "\u001b[1m\u001b[32m    Finished\u001b[0m dev [unoptimized + debuginfo] target(s) in 0.25s\n",
      "\u001b[1m\u001b[32m     Running\u001b[0m `target/debug/fp 0.04137931034482759 ../taxis_sens_avg_3/taxis_sens_0/0.04137931034482759`\n"
     ]
    },
    {
     "name": "stdout",
     "output_type": "stream",
     "text": [
      "1 / 5,   8 / 30\n"
     ]
    },
    {
     "name": "stderr",
     "output_type": "stream",
     "text": [
      "\u001b[1m\u001b[32m    Finished\u001b[0m dev [unoptimized + debuginfo] target(s) in 0.02s\n",
      "\u001b[1m\u001b[32m     Running\u001b[0m `target/debug/fp 0.048275862068965524 ../taxis_sens_avg_3/taxis_sens_0/0.048275862068965524`\n"
     ]
    },
    {
     "name": "stdout",
     "output_type": "stream",
     "text": [
      "1 / 5,   9 / 30\n"
     ]
    },
    {
     "name": "stderr",
     "output_type": "stream",
     "text": [
      "\u001b[1m\u001b[32m    Finished\u001b[0m dev [unoptimized + debuginfo] target(s) in 0.02s\n",
      "\u001b[1m\u001b[32m     Running\u001b[0m `target/debug/fp 0.055172413793103454 ../taxis_sens_avg_3/taxis_sens_0/0.055172413793103454`\n"
     ]
    },
    {
     "name": "stdout",
     "output_type": "stream",
     "text": [
      "1 / 5,   10 / 30\n"
     ]
    },
    {
     "name": "stderr",
     "output_type": "stream",
     "text": [
      "\u001b[1m\u001b[32m    Finished\u001b[0m dev [unoptimized + debuginfo] target(s) in 0.03s\n",
      "\u001b[1m\u001b[32m     Running\u001b[0m `target/debug/fp 0.062068965517241385 ../taxis_sens_avg_3/taxis_sens_0/0.062068965517241385`\n"
     ]
    },
    {
     "name": "stdout",
     "output_type": "stream",
     "text": [
      "1 / 5,   11 / 30\n"
     ]
    },
    {
     "name": "stderr",
     "output_type": "stream",
     "text": [
      "\u001b[1m\u001b[32m    Finished\u001b[0m dev [unoptimized + debuginfo] target(s) in 0.03s\n",
      "\u001b[1m\u001b[32m     Running\u001b[0m `target/debug/fp 0.06896551724137932 ../taxis_sens_avg_3/taxis_sens_0/0.06896551724137932`\n"
     ]
    },
    {
     "name": "stdout",
     "output_type": "stream",
     "text": [
      "1 / 5,   12 / 30\n"
     ]
    },
    {
     "name": "stderr",
     "output_type": "stream",
     "text": [
      "\u001b[1m\u001b[32m    Finished\u001b[0m dev [unoptimized + debuginfo] target(s) in 0.05s\n",
      "\u001b[1m\u001b[32m     Running\u001b[0m `target/debug/fp 0.07586206896551725 ../taxis_sens_avg_3/taxis_sens_0/0.07586206896551725`\n"
     ]
    },
    {
     "name": "stdout",
     "output_type": "stream",
     "text": [
      "1 / 5,   13 / 30\n"
     ]
    },
    {
     "name": "stderr",
     "output_type": "stream",
     "text": [
      "\u001b[1m\u001b[32m    Finished\u001b[0m dev [unoptimized + debuginfo] target(s) in 0.05s\n",
      "\u001b[1m\u001b[32m     Running\u001b[0m `target/debug/fp 0.08275862068965519 ../taxis_sens_avg_3/taxis_sens_0/0.08275862068965519`\n"
     ]
    },
    {
     "name": "stdout",
     "output_type": "stream",
     "text": [
      "1 / 5,   14 / 30\n"
     ]
    },
    {
     "name": "stderr",
     "output_type": "stream",
     "text": [
      "\u001b[1m\u001b[32m    Finished\u001b[0m dev [unoptimized + debuginfo] target(s) in 0.03s\n",
      "\u001b[1m\u001b[32m     Running\u001b[0m `target/debug/fp 0.08965517241379312 ../taxis_sens_avg_3/taxis_sens_0/0.08965517241379312`\n"
     ]
    },
    {
     "name": "stdout",
     "output_type": "stream",
     "text": [
      "1 / 5,   15 / 30\n"
     ]
    },
    {
     "name": "stderr",
     "output_type": "stream",
     "text": [
      "\u001b[1m\u001b[32m    Finished\u001b[0m dev [unoptimized + debuginfo] target(s) in 0.06s\n",
      "\u001b[1m\u001b[32m     Running\u001b[0m `target/debug/fp 0.09655172413793105 ../taxis_sens_avg_3/taxis_sens_0/0.09655172413793105`\n"
     ]
    },
    {
     "name": "stdout",
     "output_type": "stream",
     "text": [
      "1 / 5,   16 / 30\n"
     ]
    },
    {
     "name": "stderr",
     "output_type": "stream",
     "text": [
      "\u001b[1m\u001b[32m    Finished\u001b[0m dev [unoptimized + debuginfo] target(s) in 0.03s\n",
      "\u001b[1m\u001b[32m     Running\u001b[0m `target/debug/fp 0.10344827586206898 ../taxis_sens_avg_3/taxis_sens_0/0.10344827586206898`\n"
     ]
    },
    {
     "name": "stdout",
     "output_type": "stream",
     "text": [
      "1 / 5,   17 / 30\n"
     ]
    },
    {
     "name": "stderr",
     "output_type": "stream",
     "text": [
      "\u001b[1m\u001b[32m    Finished\u001b[0m dev [unoptimized + debuginfo] target(s) in 0.03s\n",
      "\u001b[1m\u001b[32m     Running\u001b[0m `target/debug/fp 0.11034482758620691 ../taxis_sens_avg_3/taxis_sens_0/0.11034482758620691`\n"
     ]
    },
    {
     "name": "stdout",
     "output_type": "stream",
     "text": [
      "1 / 5,   18 / 30\n"
     ]
    },
    {
     "name": "stderr",
     "output_type": "stream",
     "text": [
      "\u001b[1m\u001b[32m    Finished\u001b[0m dev [unoptimized + debuginfo] target(s) in 0.05s\n",
      "\u001b[1m\u001b[32m     Running\u001b[0m `target/debug/fp 0.11724137931034484 ../taxis_sens_avg_3/taxis_sens_0/0.11724137931034484`\n"
     ]
    },
    {
     "name": "stdout",
     "output_type": "stream",
     "text": [
      "1 / 5,   19 / 30\n"
     ]
    },
    {
     "name": "stderr",
     "output_type": "stream",
     "text": [
      "\u001b[1m\u001b[32m    Finished\u001b[0m dev [unoptimized + debuginfo] target(s) in 0.03s\n",
      "\u001b[1m\u001b[32m     Running\u001b[0m `target/debug/fp 0.12413793103448277 ../taxis_sens_avg_3/taxis_sens_0/0.12413793103448277`\n"
     ]
    },
    {
     "name": "stdout",
     "output_type": "stream",
     "text": [
      "1 / 5,   20 / 30\n"
     ]
    },
    {
     "name": "stderr",
     "output_type": "stream",
     "text": [
      "\u001b[1m\u001b[32m    Finished\u001b[0m dev [unoptimized + debuginfo] target(s) in 0.03s\n",
      "\u001b[1m\u001b[32m     Running\u001b[0m `target/debug/fp 0.1310344827586207 ../taxis_sens_avg_3/taxis_sens_0/0.1310344827586207`\n"
     ]
    },
    {
     "name": "stdout",
     "output_type": "stream",
     "text": [
      "1 / 5,   21 / 30\n"
     ]
    },
    {
     "name": "stderr",
     "output_type": "stream",
     "text": [
      "\u001b[1m\u001b[32m    Finished\u001b[0m dev [unoptimized + debuginfo] target(s) in 0.14s\n",
      "\u001b[1m\u001b[32m     Running\u001b[0m `target/debug/fp 0.13793103448275865 ../taxis_sens_avg_3/taxis_sens_0/0.13793103448275865`\n"
     ]
    },
    {
     "name": "stdout",
     "output_type": "stream",
     "text": [
      "1 / 5,   22 / 30\n"
     ]
    },
    {
     "name": "stderr",
     "output_type": "stream",
     "text": [
      "\u001b[1m\u001b[32m    Finished\u001b[0m dev [unoptimized + debuginfo] target(s) in 0.02s\n",
      "\u001b[1m\u001b[32m     Running\u001b[0m `target/debug/fp 0.14482758620689656 ../taxis_sens_avg_3/taxis_sens_0/0.14482758620689656`\n"
     ]
    },
    {
     "name": "stdout",
     "output_type": "stream",
     "text": [
      "1 / 5,   23 / 30\n"
     ]
    },
    {
     "name": "stderr",
     "output_type": "stream",
     "text": [
      "\u001b[1m\u001b[32m    Finished\u001b[0m dev [unoptimized + debuginfo] target(s) in 0.02s\n",
      "\u001b[1m\u001b[32m     Running\u001b[0m `target/debug/fp 0.1517241379310345 ../taxis_sens_avg_3/taxis_sens_0/0.1517241379310345`\n"
     ]
    },
    {
     "name": "stdout",
     "output_type": "stream",
     "text": [
      "1 / 5,   24 / 30\n"
     ]
    },
    {
     "name": "stderr",
     "output_type": "stream",
     "text": [
      "\u001b[1m\u001b[32m    Finished\u001b[0m dev [unoptimized + debuginfo] target(s) in 0.05s\n",
      "\u001b[1m\u001b[32m     Running\u001b[0m `target/debug/fp 0.15862068965517243 ../taxis_sens_avg_3/taxis_sens_0/0.15862068965517243`\n"
     ]
    },
    {
     "name": "stdout",
     "output_type": "stream",
     "text": [
      "1 / 5,   25 / 30\n"
     ]
    },
    {
     "name": "stderr",
     "output_type": "stream",
     "text": [
      "\u001b[1m\u001b[32m    Finished\u001b[0m dev [unoptimized + debuginfo] target(s) in 0.05s\n",
      "\u001b[1m\u001b[32m     Running\u001b[0m `target/debug/fp 0.16551724137931037 ../taxis_sens_avg_3/taxis_sens_0/0.16551724137931037`\n"
     ]
    },
    {
     "name": "stdout",
     "output_type": "stream",
     "text": [
      "1 / 5,   26 / 30\n"
     ]
    },
    {
     "name": "stderr",
     "output_type": "stream",
     "text": [
      "\u001b[1m\u001b[32m    Finished\u001b[0m dev [unoptimized + debuginfo] target(s) in 0.02s\n",
      "\u001b[1m\u001b[32m     Running\u001b[0m `target/debug/fp 0.1724137931034483 ../taxis_sens_avg_3/taxis_sens_0/0.1724137931034483`\n"
     ]
    },
    {
     "name": "stdout",
     "output_type": "stream",
     "text": [
      "1 / 5,   27 / 30\n"
     ]
    },
    {
     "name": "stderr",
     "output_type": "stream",
     "text": [
      "\u001b[1m\u001b[32m    Finished\u001b[0m dev [unoptimized + debuginfo] target(s) in 0.03s\n",
      "\u001b[1m\u001b[32m     Running\u001b[0m `target/debug/fp 0.17931034482758623 ../taxis_sens_avg_3/taxis_sens_0/0.17931034482758623`\n"
     ]
    },
    {
     "name": "stdout",
     "output_type": "stream",
     "text": [
      "1 / 5,   28 / 30\n"
     ]
    },
    {
     "name": "stderr",
     "output_type": "stream",
     "text": [
      "\u001b[1m\u001b[32m    Finished\u001b[0m dev [unoptimized + debuginfo] target(s) in 0.18s\n",
      "\u001b[1m\u001b[32m     Running\u001b[0m `target/debug/fp 0.18620689655172415 ../taxis_sens_avg_3/taxis_sens_0/0.18620689655172415`\n"
     ]
    },
    {
     "name": "stdout",
     "output_type": "stream",
     "text": [
      "1 / 5,   29 / 30\n"
     ]
    },
    {
     "name": "stderr",
     "output_type": "stream",
     "text": [
      "\u001b[1m\u001b[32m    Finished\u001b[0m dev [unoptimized + debuginfo] target(s) in 0.02s\n",
      "\u001b[1m\u001b[32m     Running\u001b[0m `target/debug/fp 0.1931034482758621 ../taxis_sens_avg_3/taxis_sens_0/0.1931034482758621`\n"
     ]
    },
    {
     "name": "stdout",
     "output_type": "stream",
     "text": [
      "1 / 5,   30 / 30\n"
     ]
    },
    {
     "name": "stderr",
     "output_type": "stream",
     "text": [
      "\u001b[1m\u001b[32m    Finished\u001b[0m dev [unoptimized + debuginfo] target(s) in 0.02s\n",
      "\u001b[1m\u001b[32m     Running\u001b[0m `target/debug/fp 0.2 ../taxis_sens_avg_3/taxis_sens_0/0.2`\n"
     ]
    },
    {
     "name": "stdout",
     "output_type": "stream",
     "text": [
      "2 / 5,   1 / 30\n"
     ]
    },
    {
     "name": "stderr",
     "output_type": "stream",
     "text": [
      "\u001b[1m\u001b[32m    Finished\u001b[0m dev [unoptimized + debuginfo] target(s) in 0.02s\n",
      "\u001b[1m\u001b[32m     Running\u001b[0m `target/debug/fp 0.0 ../taxis_sens_avg_3/taxis_sens_1/0.0`\n"
     ]
    },
    {
     "name": "stdout",
     "output_type": "stream",
     "text": [
      "2 / 5,   2 / 30\n"
     ]
    },
    {
     "name": "stderr",
     "output_type": "stream",
     "text": [
      "\u001b[1m\u001b[32m    Finished\u001b[0m dev [unoptimized + debuginfo] target(s) in 0.02s\n",
      "\u001b[1m\u001b[32m     Running\u001b[0m `target/debug/fp 0.006896551724137932 ../taxis_sens_avg_3/taxis_sens_1/0.006896551724137932`\n"
     ]
    },
    {
     "name": "stdout",
     "output_type": "stream",
     "text": [
      "2 / 5,   3 / 30\n"
     ]
    },
    {
     "name": "stderr",
     "output_type": "stream",
     "text": [
      "\u001b[1m\u001b[32m    Finished\u001b[0m dev [unoptimized + debuginfo] target(s) in 0.02s\n",
      "\u001b[1m\u001b[32m     Running\u001b[0m `target/debug/fp 0.013793103448275864 ../taxis_sens_avg_3/taxis_sens_1/0.013793103448275864`\n"
     ]
    },
    {
     "name": "stdout",
     "output_type": "stream",
     "text": [
      "2 / 5,   4 / 30\n"
     ]
    },
    {
     "name": "stderr",
     "output_type": "stream",
     "text": [
      "\u001b[1m\u001b[32m    Finished\u001b[0m dev [unoptimized + debuginfo] target(s) in 0.02s\n",
      "\u001b[1m\u001b[32m     Running\u001b[0m `target/debug/fp 0.020689655172413796 ../taxis_sens_avg_3/taxis_sens_1/0.020689655172413796`\n"
     ]
    },
    {
     "name": "stdout",
     "output_type": "stream",
     "text": [
      "2 / 5,   5 / 30\n"
     ]
    },
    {
     "name": "stderr",
     "output_type": "stream",
     "text": [
      "\u001b[1m\u001b[32m    Finished\u001b[0m dev [unoptimized + debuginfo] target(s) in 0.04s\n",
      "\u001b[1m\u001b[32m     Running\u001b[0m `target/debug/fp 0.027586206896551727 ../taxis_sens_avg_3/taxis_sens_1/0.027586206896551727`\n"
     ]
    },
    {
     "name": "stdout",
     "output_type": "stream",
     "text": [
      "2 / 5,   6 / 30\n"
     ]
    },
    {
     "name": "stderr",
     "output_type": "stream",
     "text": [
      "\u001b[1m\u001b[32m    Finished\u001b[0m dev [unoptimized + debuginfo] target(s) in 0.02s\n",
      "\u001b[1m\u001b[32m     Running\u001b[0m `target/debug/fp 0.03448275862068966 ../taxis_sens_avg_3/taxis_sens_1/0.03448275862068966`\n"
     ]
    },
    {
     "name": "stdout",
     "output_type": "stream",
     "text": [
      "2 / 5,   7 / 30\n"
     ]
    },
    {
     "name": "stderr",
     "output_type": "stream",
     "text": [
      "\u001b[1m\u001b[32m    Finished\u001b[0m dev [unoptimized + debuginfo] target(s) in 0.02s\n",
      "\u001b[1m\u001b[32m     Running\u001b[0m `target/debug/fp 0.04137931034482759 ../taxis_sens_avg_3/taxis_sens_1/0.04137931034482759`\n"
     ]
    },
    {
     "name": "stdout",
     "output_type": "stream",
     "text": [
      "2 / 5,   8 / 30\n"
     ]
    },
    {
     "name": "stderr",
     "output_type": "stream",
     "text": [
      "\u001b[1m\u001b[32m    Finished\u001b[0m dev [unoptimized + debuginfo] target(s) in 0.02s\n",
      "\u001b[1m\u001b[32m     Running\u001b[0m `target/debug/fp 0.048275862068965524 ../taxis_sens_avg_3/taxis_sens_1/0.048275862068965524`\n"
     ]
    },
    {
     "name": "stdout",
     "output_type": "stream",
     "text": [
      "2 / 5,   9 / 30\n"
     ]
    },
    {
     "name": "stderr",
     "output_type": "stream",
     "text": [
      "\u001b[1m\u001b[32m    Finished\u001b[0m dev [unoptimized + debuginfo] target(s) in 0.02s\n",
      "\u001b[1m\u001b[32m     Running\u001b[0m `target/debug/fp 0.055172413793103454 ../taxis_sens_avg_3/taxis_sens_1/0.055172413793103454`\n"
     ]
    },
    {
     "name": "stdout",
     "output_type": "stream",
     "text": [
      "2 / 5,   10 / 30\n"
     ]
    },
    {
     "name": "stderr",
     "output_type": "stream",
     "text": [
      "\u001b[1m\u001b[32m    Finished\u001b[0m dev [unoptimized + debuginfo] target(s) in 0.03s\n",
      "\u001b[1m\u001b[32m     Running\u001b[0m `target/debug/fp 0.062068965517241385 ../taxis_sens_avg_3/taxis_sens_1/0.062068965517241385`\n"
     ]
    },
    {
     "name": "stdout",
     "output_type": "stream",
     "text": [
      "2 / 5,   11 / 30\n"
     ]
    },
    {
     "name": "stderr",
     "output_type": "stream",
     "text": [
      "\u001b[1m\u001b[32m    Finished\u001b[0m dev [unoptimized + debuginfo] target(s) in 0.03s\n",
      "\u001b[1m\u001b[32m     Running\u001b[0m `target/debug/fp 0.06896551724137932 ../taxis_sens_avg_3/taxis_sens_1/0.06896551724137932`\n"
     ]
    },
    {
     "name": "stdout",
     "output_type": "stream",
     "text": [
      "2 / 5,   12 / 30\n"
     ]
    },
    {
     "name": "stderr",
     "output_type": "stream",
     "text": [
      "\u001b[1m\u001b[32m    Finished\u001b[0m dev [unoptimized + debuginfo] target(s) in 0.02s\n",
      "\u001b[1m\u001b[32m     Running\u001b[0m `target/debug/fp 0.07586206896551725 ../taxis_sens_avg_3/taxis_sens_1/0.07586206896551725`\n"
     ]
    },
    {
     "name": "stdout",
     "output_type": "stream",
     "text": [
      "2 / 5,   13 / 30\n"
     ]
    },
    {
     "name": "stderr",
     "output_type": "stream",
     "text": [
      "\u001b[1m\u001b[32m    Finished\u001b[0m dev [unoptimized + debuginfo] target(s) in 0.03s\n",
      "\u001b[1m\u001b[32m     Running\u001b[0m `target/debug/fp 0.08275862068965519 ../taxis_sens_avg_3/taxis_sens_1/0.08275862068965519`\n"
     ]
    },
    {
     "name": "stdout",
     "output_type": "stream",
     "text": [
      "2 / 5,   14 / 30\n"
     ]
    },
    {
     "name": "stderr",
     "output_type": "stream",
     "text": [
      "\u001b[1m\u001b[32m    Finished\u001b[0m dev [unoptimized + debuginfo] target(s) in 0.02s\n",
      "\u001b[1m\u001b[32m     Running\u001b[0m `target/debug/fp 0.08965517241379312 ../taxis_sens_avg_3/taxis_sens_1/0.08965517241379312`\n"
     ]
    },
    {
     "name": "stdout",
     "output_type": "stream",
     "text": [
      "2 / 5,   15 / 30\n"
     ]
    },
    {
     "name": "stderr",
     "output_type": "stream",
     "text": [
      "\u001b[1m\u001b[32m    Finished\u001b[0m dev [unoptimized + debuginfo] target(s) in 0.02s\n",
      "\u001b[1m\u001b[32m     Running\u001b[0m `target/debug/fp 0.09655172413793105 ../taxis_sens_avg_3/taxis_sens_1/0.09655172413793105`\n"
     ]
    },
    {
     "name": "stdout",
     "output_type": "stream",
     "text": [
      "2 / 5,   16 / 30\n"
     ]
    },
    {
     "name": "stderr",
     "output_type": "stream",
     "text": [
      "\u001b[1m\u001b[32m    Finished\u001b[0m dev [unoptimized + debuginfo] target(s) in 0.03s\n",
      "\u001b[1m\u001b[32m     Running\u001b[0m `target/debug/fp 0.10344827586206898 ../taxis_sens_avg_3/taxis_sens_1/0.10344827586206898`\n"
     ]
    },
    {
     "name": "stdout",
     "output_type": "stream",
     "text": [
      "2 / 5,   17 / 30\n"
     ]
    },
    {
     "name": "stderr",
     "output_type": "stream",
     "text": [
      "\u001b[1m\u001b[32m    Finished\u001b[0m dev [unoptimized + debuginfo] target(s) in 0.03s\n",
      "\u001b[1m\u001b[32m     Running\u001b[0m `target/debug/fp 0.11034482758620691 ../taxis_sens_avg_3/taxis_sens_1/0.11034482758620691`\n"
     ]
    },
    {
     "name": "stdout",
     "output_type": "stream",
     "text": [
      "2 / 5,   18 / 30\n"
     ]
    },
    {
     "name": "stderr",
     "output_type": "stream",
     "text": [
      "\u001b[1m\u001b[32m    Finished\u001b[0m dev [unoptimized + debuginfo] target(s) in 0.13s\n",
      "\u001b[1m\u001b[32m     Running\u001b[0m `target/debug/fp 0.11724137931034484 ../taxis_sens_avg_3/taxis_sens_1/0.11724137931034484`\n"
     ]
    },
    {
     "name": "stdout",
     "output_type": "stream",
     "text": [
      "2 / 5,   19 / 30\n"
     ]
    },
    {
     "name": "stderr",
     "output_type": "stream",
     "text": [
      "\u001b[1m\u001b[32m    Finished\u001b[0m dev [unoptimized + debuginfo] target(s) in 0.04s\n",
      "\u001b[1m\u001b[32m     Running\u001b[0m `target/debug/fp 0.12413793103448277 ../taxis_sens_avg_3/taxis_sens_1/0.12413793103448277`\n"
     ]
    },
    {
     "name": "stdout",
     "output_type": "stream",
     "text": [
      "2 / 5,   20 / 30\n"
     ]
    },
    {
     "name": "stderr",
     "output_type": "stream",
     "text": [
      "\u001b[1m\u001b[32m    Finished\u001b[0m dev [unoptimized + debuginfo] target(s) in 0.21s\n",
      "\u001b[1m\u001b[32m     Running\u001b[0m `target/debug/fp 0.1310344827586207 ../taxis_sens_avg_3/taxis_sens_1/0.1310344827586207`\n"
     ]
    },
    {
     "name": "stdout",
     "output_type": "stream",
     "text": [
      "2 / 5,   21 / 30\n"
     ]
    },
    {
     "name": "stderr",
     "output_type": "stream",
     "text": [
      "\u001b[1m\u001b[32m    Finished\u001b[0m dev [unoptimized + debuginfo] target(s) in 0.08s\n",
      "\u001b[1m\u001b[32m     Running\u001b[0m `target/debug/fp 0.13793103448275865 ../taxis_sens_avg_3/taxis_sens_1/0.13793103448275865`\n"
     ]
    },
    {
     "name": "stdout",
     "output_type": "stream",
     "text": [
      "2 / 5,   22 / 30\n"
     ]
    },
    {
     "name": "stderr",
     "output_type": "stream",
     "text": [
      "\u001b[1m\u001b[32m    Finished\u001b[0m dev [unoptimized + debuginfo] target(s) in 0.02s\n",
      "\u001b[1m\u001b[32m     Running\u001b[0m `target/debug/fp 0.14482758620689656 ../taxis_sens_avg_3/taxis_sens_1/0.14482758620689656`\n"
     ]
    },
    {
     "name": "stdout",
     "output_type": "stream",
     "text": [
      "2 / 5,   23 / 30\n"
     ]
    },
    {
     "name": "stderr",
     "output_type": "stream",
     "text": [
      "\u001b[1m\u001b[32m    Finished\u001b[0m dev [unoptimized + debuginfo] target(s) in 0.02s\n",
      "\u001b[1m\u001b[32m     Running\u001b[0m `target/debug/fp 0.1517241379310345 ../taxis_sens_avg_3/taxis_sens_1/0.1517241379310345`\n"
     ]
    },
    {
     "name": "stdout",
     "output_type": "stream",
     "text": [
      "2 / 5,   24 / 30\n"
     ]
    },
    {
     "name": "stderr",
     "output_type": "stream",
     "text": [
      "\u001b[1m\u001b[32m    Finished\u001b[0m dev [unoptimized + debuginfo] target(s) in 0.02s\n",
      "\u001b[1m\u001b[32m     Running\u001b[0m `target/debug/fp 0.15862068965517243 ../taxis_sens_avg_3/taxis_sens_1/0.15862068965517243`\n"
     ]
    },
    {
     "name": "stdout",
     "output_type": "stream",
     "text": [
      "2 / 5,   25 / 30\n"
     ]
    },
    {
     "name": "stderr",
     "output_type": "stream",
     "text": [
      "\u001b[1m\u001b[32m    Finished\u001b[0m dev [unoptimized + debuginfo] target(s) in 0.02s\n",
      "\u001b[1m\u001b[32m     Running\u001b[0m `target/debug/fp 0.16551724137931037 ../taxis_sens_avg_3/taxis_sens_1/0.16551724137931037`\n"
     ]
    },
    {
     "name": "stdout",
     "output_type": "stream",
     "text": [
      "2 / 5,   26 / 30\n"
     ]
    },
    {
     "name": "stderr",
     "output_type": "stream",
     "text": [
      "\u001b[1m\u001b[32m    Finished\u001b[0m dev [unoptimized + debuginfo] target(s) in 0.02s\n",
      "\u001b[1m\u001b[32m     Running\u001b[0m `target/debug/fp 0.1724137931034483 ../taxis_sens_avg_3/taxis_sens_1/0.1724137931034483`\n"
     ]
    },
    {
     "name": "stdout",
     "output_type": "stream",
     "text": [
      "2 / 5,   27 / 30\n"
     ]
    },
    {
     "name": "stderr",
     "output_type": "stream",
     "text": [
      "\u001b[1m\u001b[32m    Finished\u001b[0m dev [unoptimized + debuginfo] target(s) in 0.05s\n",
      "\u001b[1m\u001b[32m     Running\u001b[0m `target/debug/fp 0.17931034482758623 ../taxis_sens_avg_3/taxis_sens_1/0.17931034482758623`\n"
     ]
    },
    {
     "name": "stdout",
     "output_type": "stream",
     "text": [
      "2 / 5,   28 / 30\n"
     ]
    },
    {
     "name": "stderr",
     "output_type": "stream",
     "text": [
      "\u001b[1m\u001b[32m    Finished\u001b[0m dev [unoptimized + debuginfo] target(s) in 0.02s\n",
      "\u001b[1m\u001b[32m     Running\u001b[0m `target/debug/fp 0.18620689655172415 ../taxis_sens_avg_3/taxis_sens_1/0.18620689655172415`\n"
     ]
    },
    {
     "name": "stdout",
     "output_type": "stream",
     "text": [
      "2 / 5,   29 / 30\n"
     ]
    },
    {
     "name": "stderr",
     "output_type": "stream",
     "text": [
      "\u001b[1m\u001b[32m    Finished\u001b[0m dev [unoptimized + debuginfo] target(s) in 0.04s\n",
      "\u001b[1m\u001b[32m     Running\u001b[0m `target/debug/fp 0.1931034482758621 ../taxis_sens_avg_3/taxis_sens_1/0.1931034482758621`\n"
     ]
    },
    {
     "name": "stdout",
     "output_type": "stream",
     "text": [
      "2 / 5,   30 / 30\n"
     ]
    },
    {
     "name": "stderr",
     "output_type": "stream",
     "text": [
      "\u001b[1m\u001b[32m    Finished\u001b[0m dev [unoptimized + debuginfo] target(s) in 0.03s\n",
      "\u001b[1m\u001b[32m     Running\u001b[0m `target/debug/fp 0.2 ../taxis_sens_avg_3/taxis_sens_1/0.2`\n"
     ]
    },
    {
     "name": "stdout",
     "output_type": "stream",
     "text": [
      "3 / 5,   1 / 30\n"
     ]
    },
    {
     "name": "stderr",
     "output_type": "stream",
     "text": [
      "\u001b[1m\u001b[32m    Finished\u001b[0m dev [unoptimized + debuginfo] target(s) in 0.02s\n",
      "\u001b[1m\u001b[32m     Running\u001b[0m `target/debug/fp 0.0 ../taxis_sens_avg_3/taxis_sens_2/0.0`\n"
     ]
    },
    {
     "name": "stdout",
     "output_type": "stream",
     "text": [
      "3 / 5,   2 / 30\n"
     ]
    },
    {
     "name": "stderr",
     "output_type": "stream",
     "text": [
      "\u001b[1m\u001b[32m    Finished\u001b[0m dev [unoptimized + debuginfo] target(s) in 0.03s\n",
      "\u001b[1m\u001b[32m     Running\u001b[0m `target/debug/fp 0.006896551724137932 ../taxis_sens_avg_3/taxis_sens_2/0.006896551724137932`\n"
     ]
    },
    {
     "name": "stdout",
     "output_type": "stream",
     "text": [
      "3 / 5,   3 / 30\n"
     ]
    },
    {
     "name": "stderr",
     "output_type": "stream",
     "text": [
      "\u001b[1m\u001b[32m    Finished\u001b[0m dev [unoptimized + debuginfo] target(s) in 0.02s\n",
      "\u001b[1m\u001b[32m     Running\u001b[0m `target/debug/fp 0.013793103448275864 ../taxis_sens_avg_3/taxis_sens_2/0.013793103448275864`\n"
     ]
    },
    {
     "name": "stdout",
     "output_type": "stream",
     "text": [
      "3 / 5,   4 / 30\n"
     ]
    },
    {
     "name": "stderr",
     "output_type": "stream",
     "text": [
      "\u001b[1m\u001b[32m    Finished\u001b[0m dev [unoptimized + debuginfo] target(s) in 0.04s\n",
      "\u001b[1m\u001b[32m     Running\u001b[0m `target/debug/fp 0.020689655172413796 ../taxis_sens_avg_3/taxis_sens_2/0.020689655172413796`\n"
     ]
    },
    {
     "name": "stdout",
     "output_type": "stream",
     "text": [
      "3 / 5,   5 / 30\n"
     ]
    },
    {
     "name": "stderr",
     "output_type": "stream",
     "text": [
      "\u001b[1m\u001b[32m    Finished\u001b[0m dev [unoptimized + debuginfo] target(s) in 0.02s\n",
      "\u001b[1m\u001b[32m     Running\u001b[0m `target/debug/fp 0.027586206896551727 ../taxis_sens_avg_3/taxis_sens_2/0.027586206896551727`\n"
     ]
    },
    {
     "name": "stdout",
     "output_type": "stream",
     "text": [
      "3 / 5,   6 / 30\n"
     ]
    },
    {
     "name": "stderr",
     "output_type": "stream",
     "text": [
      "\u001b[1m\u001b[32m    Finished\u001b[0m dev [unoptimized + debuginfo] target(s) in 0.02s\n",
      "\u001b[1m\u001b[32m     Running\u001b[0m `target/debug/fp 0.03448275862068966 ../taxis_sens_avg_3/taxis_sens_2/0.03448275862068966`\n"
     ]
    },
    {
     "name": "stdout",
     "output_type": "stream",
     "text": [
      "3 / 5,   7 / 30\n"
     ]
    },
    {
     "name": "stderr",
     "output_type": "stream",
     "text": [
      "\u001b[1m\u001b[32m    Finished\u001b[0m dev [unoptimized + debuginfo] target(s) in 0.02s\n",
      "\u001b[1m\u001b[32m     Running\u001b[0m `target/debug/fp 0.04137931034482759 ../taxis_sens_avg_3/taxis_sens_2/0.04137931034482759`\n"
     ]
    },
    {
     "name": "stdout",
     "output_type": "stream",
     "text": [
      "3 / 5,   8 / 30\n"
     ]
    },
    {
     "name": "stderr",
     "output_type": "stream",
     "text": [
      "\u001b[1m\u001b[32m    Finished\u001b[0m dev [unoptimized + debuginfo] target(s) in 0.03s\n",
      "\u001b[1m\u001b[32m     Running\u001b[0m `target/debug/fp 0.048275862068965524 ../taxis_sens_avg_3/taxis_sens_2/0.048275862068965524`\n"
     ]
    },
    {
     "name": "stdout",
     "output_type": "stream",
     "text": [
      "3 / 5,   9 / 30\n"
     ]
    },
    {
     "name": "stderr",
     "output_type": "stream",
     "text": [
      "\u001b[1m\u001b[32m    Finished\u001b[0m dev [unoptimized + debuginfo] target(s) in 0.04s\n",
      "\u001b[1m\u001b[32m     Running\u001b[0m `target/debug/fp 0.055172413793103454 ../taxis_sens_avg_3/taxis_sens_2/0.055172413793103454`\n"
     ]
    },
    {
     "name": "stdout",
     "output_type": "stream",
     "text": [
      "3 / 5,   10 / 30\n"
     ]
    },
    {
     "name": "stderr",
     "output_type": "stream",
     "text": [
      "\u001b[1m\u001b[32m    Finished\u001b[0m dev [unoptimized + debuginfo] target(s) in 0.03s\n",
      "\u001b[1m\u001b[32m     Running\u001b[0m `target/debug/fp 0.062068965517241385 ../taxis_sens_avg_3/taxis_sens_2/0.062068965517241385`\n"
     ]
    },
    {
     "name": "stdout",
     "output_type": "stream",
     "text": [
      "3 / 5,   11 / 30\n"
     ]
    },
    {
     "name": "stderr",
     "output_type": "stream",
     "text": [
      "\u001b[1m\u001b[32m    Finished\u001b[0m dev [unoptimized + debuginfo] target(s) in 0.02s\n",
      "\u001b[1m\u001b[32m     Running\u001b[0m `target/debug/fp 0.06896551724137932 ../taxis_sens_avg_3/taxis_sens_2/0.06896551724137932`\n"
     ]
    },
    {
     "name": "stdout",
     "output_type": "stream",
     "text": [
      "3 / 5,   12 / 30\n"
     ]
    },
    {
     "name": "stderr",
     "output_type": "stream",
     "text": [
      "\u001b[1m\u001b[32m    Finished\u001b[0m dev [unoptimized + debuginfo] target(s) in 0.04s\n",
      "\u001b[1m\u001b[32m     Running\u001b[0m `target/debug/fp 0.07586206896551725 ../taxis_sens_avg_3/taxis_sens_2/0.07586206896551725`\n"
     ]
    },
    {
     "name": "stdout",
     "output_type": "stream",
     "text": [
      "3 / 5,   13 / 30\n"
     ]
    },
    {
     "name": "stderr",
     "output_type": "stream",
     "text": [
      "\u001b[1m\u001b[32m    Finished\u001b[0m dev [unoptimized + debuginfo] target(s) in 0.04s\n",
      "\u001b[1m\u001b[32m     Running\u001b[0m `target/debug/fp 0.08275862068965519 ../taxis_sens_avg_3/taxis_sens_2/0.08275862068965519`\n"
     ]
    },
    {
     "name": "stdout",
     "output_type": "stream",
     "text": [
      "3 / 5,   14 / 30\n"
     ]
    },
    {
     "name": "stderr",
     "output_type": "stream",
     "text": [
      "\u001b[1m\u001b[32m    Finished\u001b[0m dev [unoptimized + debuginfo] target(s) in 0.08s\n",
      "\u001b[1m\u001b[32m     Running\u001b[0m `target/debug/fp 0.08965517241379312 ../taxis_sens_avg_3/taxis_sens_2/0.08965517241379312`\n"
     ]
    },
    {
     "name": "stdout",
     "output_type": "stream",
     "text": [
      "3 / 5,   15 / 30\n"
     ]
    },
    {
     "name": "stderr",
     "output_type": "stream",
     "text": [
      "\u001b[1m\u001b[32m    Finished\u001b[0m dev [unoptimized + debuginfo] target(s) in 0.04s\n",
      "\u001b[1m\u001b[32m     Running\u001b[0m `target/debug/fp 0.09655172413793105 ../taxis_sens_avg_3/taxis_sens_2/0.09655172413793105`\n"
     ]
    },
    {
     "name": "stdout",
     "output_type": "stream",
     "text": [
      "3 / 5,   16 / 30\n"
     ]
    },
    {
     "name": "stderr",
     "output_type": "stream",
     "text": [
      "\u001b[1m\u001b[32m    Finished\u001b[0m dev [unoptimized + debuginfo] target(s) in 0.08s\n",
      "\u001b[1m\u001b[32m     Running\u001b[0m `target/debug/fp 0.10344827586206898 ../taxis_sens_avg_3/taxis_sens_2/0.10344827586206898`\n"
     ]
    },
    {
     "name": "stdout",
     "output_type": "stream",
     "text": [
      "3 / 5,   17 / 30\n"
     ]
    },
    {
     "name": "stderr",
     "output_type": "stream",
     "text": [
      "\u001b[1m\u001b[32m    Finished\u001b[0m dev [unoptimized + debuginfo] target(s) in 0.02s\n",
      "\u001b[1m\u001b[32m     Running\u001b[0m `target/debug/fp 0.11034482758620691 ../taxis_sens_avg_3/taxis_sens_2/0.11034482758620691`\n"
     ]
    },
    {
     "name": "stdout",
     "output_type": "stream",
     "text": [
      "3 / 5,   18 / 30\n"
     ]
    },
    {
     "name": "stderr",
     "output_type": "stream",
     "text": [
      "\u001b[1m\u001b[32m    Finished\u001b[0m dev [unoptimized + debuginfo] target(s) in 0.02s\n",
      "\u001b[1m\u001b[32m     Running\u001b[0m `target/debug/fp 0.11724137931034484 ../taxis_sens_avg_3/taxis_sens_2/0.11724137931034484`\n"
     ]
    },
    {
     "name": "stdout",
     "output_type": "stream",
     "text": [
      "3 / 5,   19 / 30\n"
     ]
    },
    {
     "name": "stderr",
     "output_type": "stream",
     "text": [
      "\u001b[1m\u001b[32m    Finished\u001b[0m dev [unoptimized + debuginfo] target(s) in 0.02s\n",
      "\u001b[1m\u001b[32m     Running\u001b[0m `target/debug/fp 0.12413793103448277 ../taxis_sens_avg_3/taxis_sens_2/0.12413793103448277`\n"
     ]
    },
    {
     "name": "stdout",
     "output_type": "stream",
     "text": [
      "3 / 5,   20 / 30\n"
     ]
    },
    {
     "name": "stderr",
     "output_type": "stream",
     "text": [
      "\u001b[1m\u001b[32m    Finished\u001b[0m dev [unoptimized + debuginfo] target(s) in 0.12s\n",
      "\u001b[1m\u001b[32m     Running\u001b[0m `target/debug/fp 0.1310344827586207 ../taxis_sens_avg_3/taxis_sens_2/0.1310344827586207`\n"
     ]
    },
    {
     "name": "stdout",
     "output_type": "stream",
     "text": [
      "3 / 5,   21 / 30\n"
     ]
    },
    {
     "name": "stderr",
     "output_type": "stream",
     "text": [
      "\u001b[1m\u001b[32m    Finished\u001b[0m dev [unoptimized + debuginfo] target(s) in 0.06s\n",
      "\u001b[1m\u001b[32m     Running\u001b[0m `target/debug/fp 0.13793103448275865 ../taxis_sens_avg_3/taxis_sens_2/0.13793103448275865`\n"
     ]
    },
    {
     "name": "stdout",
     "output_type": "stream",
     "text": [
      "3 / 5,   22 / 30\n"
     ]
    },
    {
     "name": "stderr",
     "output_type": "stream",
     "text": [
      "\u001b[1m\u001b[32m    Finished\u001b[0m dev [unoptimized + debuginfo] target(s) in 0.03s\n",
      "\u001b[1m\u001b[32m     Running\u001b[0m `target/debug/fp 0.14482758620689656 ../taxis_sens_avg_3/taxis_sens_2/0.14482758620689656`\n"
     ]
    },
    {
     "name": "stdout",
     "output_type": "stream",
     "text": [
      "3 / 5,   23 / 30\n"
     ]
    },
    {
     "name": "stderr",
     "output_type": "stream",
     "text": [
      "\u001b[1m\u001b[32m    Finished\u001b[0m dev [unoptimized + debuginfo] target(s) in 0.36s\n",
      "\u001b[1m\u001b[32m     Running\u001b[0m `target/debug/fp 0.1517241379310345 ../taxis_sens_avg_3/taxis_sens_2/0.1517241379310345`\n"
     ]
    },
    {
     "name": "stdout",
     "output_type": "stream",
     "text": [
      "3 / 5,   24 / 30\n"
     ]
    },
    {
     "name": "stderr",
     "output_type": "stream",
     "text": [
      "\u001b[1m\u001b[32m    Finished\u001b[0m dev [unoptimized + debuginfo] target(s) in 0.03s\n",
      "\u001b[1m\u001b[32m     Running\u001b[0m `target/debug/fp 0.15862068965517243 ../taxis_sens_avg_3/taxis_sens_2/0.15862068965517243`\n"
     ]
    },
    {
     "name": "stdout",
     "output_type": "stream",
     "text": [
      "3 / 5,   25 / 30\n"
     ]
    },
    {
     "name": "stderr",
     "output_type": "stream",
     "text": [
      "\u001b[1m\u001b[32m    Finished\u001b[0m dev [unoptimized + debuginfo] target(s) in 0.05s\n",
      "\u001b[1m\u001b[32m     Running\u001b[0m `target/debug/fp 0.16551724137931037 ../taxis_sens_avg_3/taxis_sens_2/0.16551724137931037`\n"
     ]
    },
    {
     "name": "stdout",
     "output_type": "stream",
     "text": [
      "3 / 5,   26 / 30\n"
     ]
    },
    {
     "name": "stderr",
     "output_type": "stream",
     "text": [
      "\u001b[1m\u001b[32m    Finished\u001b[0m dev [unoptimized + debuginfo] target(s) in 0.03s\n",
      "\u001b[1m\u001b[32m     Running\u001b[0m `target/debug/fp 0.1724137931034483 ../taxis_sens_avg_3/taxis_sens_2/0.1724137931034483`\n"
     ]
    },
    {
     "name": "stdout",
     "output_type": "stream",
     "text": [
      "3 / 5,   27 / 30\n"
     ]
    },
    {
     "name": "stderr",
     "output_type": "stream",
     "text": [
      "\u001b[1m\u001b[32m    Finished\u001b[0m dev [unoptimized + debuginfo] target(s) in 0.02s\n",
      "\u001b[1m\u001b[32m     Running\u001b[0m `target/debug/fp 0.17931034482758623 ../taxis_sens_avg_3/taxis_sens_2/0.17931034482758623`\n"
     ]
    },
    {
     "name": "stdout",
     "output_type": "stream",
     "text": [
      "3 / 5,   28 / 30\n"
     ]
    },
    {
     "name": "stderr",
     "output_type": "stream",
     "text": [
      "\u001b[1m\u001b[32m    Finished\u001b[0m dev [unoptimized + debuginfo] target(s) in 0.02s\n",
      "\u001b[1m\u001b[32m     Running\u001b[0m `target/debug/fp 0.18620689655172415 ../taxis_sens_avg_3/taxis_sens_2/0.18620689655172415`\n"
     ]
    },
    {
     "name": "stdout",
     "output_type": "stream",
     "text": [
      "3 / 5,   29 / 30\n"
     ]
    },
    {
     "name": "stderr",
     "output_type": "stream",
     "text": [
      "\u001b[1m\u001b[32m    Finished\u001b[0m dev [unoptimized + debuginfo] target(s) in 0.03s\n",
      "\u001b[1m\u001b[32m     Running\u001b[0m `target/debug/fp 0.1931034482758621 ../taxis_sens_avg_3/taxis_sens_2/0.1931034482758621`\n"
     ]
    },
    {
     "name": "stdout",
     "output_type": "stream",
     "text": [
      "3 / 5,   30 / 30\n"
     ]
    },
    {
     "name": "stderr",
     "output_type": "stream",
     "text": [
      "\u001b[1m\u001b[32m    Finished\u001b[0m dev [unoptimized + debuginfo] target(s) in 0.02s\n",
      "\u001b[1m\u001b[32m     Running\u001b[0m `target/debug/fp 0.2 ../taxis_sens_avg_3/taxis_sens_2/0.2`\n"
     ]
    },
    {
     "name": "stdout",
     "output_type": "stream",
     "text": [
      "4 / 5,   1 / 30\n"
     ]
    },
    {
     "name": "stderr",
     "output_type": "stream",
     "text": [
      "\u001b[1m\u001b[32m    Finished\u001b[0m dev [unoptimized + debuginfo] target(s) in 0.03s\n",
      "\u001b[1m\u001b[32m     Running\u001b[0m `target/debug/fp 0.0 ../taxis_sens_avg_3/taxis_sens_3/0.0`\n"
     ]
    },
    {
     "name": "stdout",
     "output_type": "stream",
     "text": [
      "4 / 5,   2 / 30\n"
     ]
    },
    {
     "name": "stderr",
     "output_type": "stream",
     "text": [
      "\u001b[1m\u001b[32m    Finished\u001b[0m dev [unoptimized + debuginfo] target(s) in 0.03s\n",
      "\u001b[1m\u001b[32m     Running\u001b[0m `target/debug/fp 0.006896551724137932 ../taxis_sens_avg_3/taxis_sens_3/0.006896551724137932`\n"
     ]
    },
    {
     "name": "stdout",
     "output_type": "stream",
     "text": [
      "4 / 5,   3 / 30\n"
     ]
    },
    {
     "name": "stderr",
     "output_type": "stream",
     "text": [
      "\u001b[1m\u001b[32m    Finished\u001b[0m dev [unoptimized + debuginfo] target(s) in 0.03s\n",
      "\u001b[1m\u001b[32m     Running\u001b[0m `target/debug/fp 0.013793103448275864 ../taxis_sens_avg_3/taxis_sens_3/0.013793103448275864`\n"
     ]
    },
    {
     "name": "stdout",
     "output_type": "stream",
     "text": [
      "4 / 5,   4 / 30\n"
     ]
    },
    {
     "name": "stderr",
     "output_type": "stream",
     "text": [
      "\u001b[1m\u001b[32m    Finished\u001b[0m dev [unoptimized + debuginfo] target(s) in 0.03s\n",
      "\u001b[1m\u001b[32m     Running\u001b[0m `target/debug/fp 0.020689655172413796 ../taxis_sens_avg_3/taxis_sens_3/0.020689655172413796`\n"
     ]
    },
    {
     "name": "stdout",
     "output_type": "stream",
     "text": [
      "4 / 5,   5 / 30\n"
     ]
    },
    {
     "name": "stderr",
     "output_type": "stream",
     "text": [
      "\u001b[1m\u001b[32m    Finished\u001b[0m dev [unoptimized + debuginfo] target(s) in 0.04s\n",
      "\u001b[1m\u001b[32m     Running\u001b[0m `target/debug/fp 0.027586206896551727 ../taxis_sens_avg_3/taxis_sens_3/0.027586206896551727`\n"
     ]
    },
    {
     "name": "stdout",
     "output_type": "stream",
     "text": [
      "4 / 5,   6 / 30\n"
     ]
    },
    {
     "name": "stderr",
     "output_type": "stream",
     "text": [
      "\u001b[1m\u001b[32m    Finished\u001b[0m dev [unoptimized + debuginfo] target(s) in 0.02s\n",
      "\u001b[1m\u001b[32m     Running\u001b[0m `target/debug/fp 0.03448275862068966 ../taxis_sens_avg_3/taxis_sens_3/0.03448275862068966`\n"
     ]
    },
    {
     "name": "stdout",
     "output_type": "stream",
     "text": [
      "4 / 5,   7 / 30\n"
     ]
    },
    {
     "name": "stderr",
     "output_type": "stream",
     "text": [
      "\u001b[1m\u001b[32m    Finished\u001b[0m dev [unoptimized + debuginfo] target(s) in 0.02s\n",
      "\u001b[1m\u001b[32m     Running\u001b[0m `target/debug/fp 0.04137931034482759 ../taxis_sens_avg_3/taxis_sens_3/0.04137931034482759`\n"
     ]
    },
    {
     "name": "stdout",
     "output_type": "stream",
     "text": [
      "4 / 5,   8 / 30\n"
     ]
    },
    {
     "name": "stderr",
     "output_type": "stream",
     "text": [
      "\u001b[1m\u001b[32m    Finished\u001b[0m dev [unoptimized + debuginfo] target(s) in 0.03s\n",
      "\u001b[1m\u001b[32m     Running\u001b[0m `target/debug/fp 0.048275862068965524 ../taxis_sens_avg_3/taxis_sens_3/0.048275862068965524`\n"
     ]
    },
    {
     "name": "stdout",
     "output_type": "stream",
     "text": [
      "4 / 5,   9 / 30\n"
     ]
    },
    {
     "name": "stderr",
     "output_type": "stream",
     "text": [
      "\u001b[1m\u001b[32m    Finished\u001b[0m dev [unoptimized + debuginfo] target(s) in 0.03s\n",
      "\u001b[1m\u001b[32m     Running\u001b[0m `target/debug/fp 0.055172413793103454 ../taxis_sens_avg_3/taxis_sens_3/0.055172413793103454`\n"
     ]
    },
    {
     "name": "stdout",
     "output_type": "stream",
     "text": [
      "4 / 5,   10 / 30\n"
     ]
    },
    {
     "name": "stderr",
     "output_type": "stream",
     "text": [
      "\u001b[1m\u001b[32m    Finished\u001b[0m dev [unoptimized + debuginfo] target(s) in 0.03s\n",
      "\u001b[1m\u001b[32m     Running\u001b[0m `target/debug/fp 0.062068965517241385 ../taxis_sens_avg_3/taxis_sens_3/0.062068965517241385`\n"
     ]
    },
    {
     "name": "stdout",
     "output_type": "stream",
     "text": [
      "4 / 5,   11 / 30\n"
     ]
    },
    {
     "name": "stderr",
     "output_type": "stream",
     "text": [
      "\u001b[1m\u001b[32m    Finished\u001b[0m dev [unoptimized + debuginfo] target(s) in 0.02s\n",
      "\u001b[1m\u001b[32m     Running\u001b[0m `target/debug/fp 0.06896551724137932 ../taxis_sens_avg_3/taxis_sens_3/0.06896551724137932`\n"
     ]
    },
    {
     "name": "stdout",
     "output_type": "stream",
     "text": [
      "4 / 5,   12 / 30\n"
     ]
    },
    {
     "name": "stderr",
     "output_type": "stream",
     "text": [
      "\u001b[1m\u001b[32m    Finished\u001b[0m dev [unoptimized + debuginfo] target(s) in 0.02s\n",
      "\u001b[1m\u001b[32m     Running\u001b[0m `target/debug/fp 0.07586206896551725 ../taxis_sens_avg_3/taxis_sens_3/0.07586206896551725`\n"
     ]
    },
    {
     "name": "stdout",
     "output_type": "stream",
     "text": [
      "4 / 5,   13 / 30\n"
     ]
    },
    {
     "name": "stderr",
     "output_type": "stream",
     "text": [
      "\u001b[1m\u001b[32m    Finished\u001b[0m dev [unoptimized + debuginfo] target(s) in 0.03s\n",
      "\u001b[1m\u001b[32m     Running\u001b[0m `target/debug/fp 0.08275862068965519 ../taxis_sens_avg_3/taxis_sens_3/0.08275862068965519`\n"
     ]
    },
    {
     "name": "stdout",
     "output_type": "stream",
     "text": [
      "4 / 5,   14 / 30\n"
     ]
    },
    {
     "name": "stderr",
     "output_type": "stream",
     "text": [
      "\u001b[1m\u001b[32m    Finished\u001b[0m dev [unoptimized + debuginfo] target(s) in 0.02s\n",
      "\u001b[1m\u001b[32m     Running\u001b[0m `target/debug/fp 0.08965517241379312 ../taxis_sens_avg_3/taxis_sens_3/0.08965517241379312`\n"
     ]
    },
    {
     "name": "stdout",
     "output_type": "stream",
     "text": [
      "4 / 5,   15 / 30\n"
     ]
    },
    {
     "name": "stderr",
     "output_type": "stream",
     "text": [
      "\u001b[1m\u001b[32m    Finished\u001b[0m dev [unoptimized + debuginfo] target(s) in 0.07s\n",
      "\u001b[1m\u001b[32m     Running\u001b[0m `target/debug/fp 0.09655172413793105 ../taxis_sens_avg_3/taxis_sens_3/0.09655172413793105`\n"
     ]
    },
    {
     "name": "stdout",
     "output_type": "stream",
     "text": [
      "4 / 5,   16 / 30\n"
     ]
    },
    {
     "name": "stderr",
     "output_type": "stream",
     "text": [
      "\u001b[1m\u001b[32m    Finished\u001b[0m dev [unoptimized + debuginfo] target(s) in 0.06s\n",
      "\u001b[1m\u001b[32m     Running\u001b[0m `target/debug/fp 0.10344827586206898 ../taxis_sens_avg_3/taxis_sens_3/0.10344827586206898`\n"
     ]
    },
    {
     "name": "stdout",
     "output_type": "stream",
     "text": [
      "4 / 5,   17 / 30\n"
     ]
    },
    {
     "name": "stderr",
     "output_type": "stream",
     "text": [
      "\u001b[1m\u001b[32m    Finished\u001b[0m dev [unoptimized + debuginfo] target(s) in 0.03s\n",
      "\u001b[1m\u001b[32m     Running\u001b[0m `target/debug/fp 0.11034482758620691 ../taxis_sens_avg_3/taxis_sens_3/0.11034482758620691`\n"
     ]
    },
    {
     "name": "stdout",
     "output_type": "stream",
     "text": [
      "4 / 5,   18 / 30\n"
     ]
    },
    {
     "name": "stderr",
     "output_type": "stream",
     "text": [
      "\u001b[1m\u001b[32m    Finished\u001b[0m dev [unoptimized + debuginfo] target(s) in 0.04s\n",
      "\u001b[1m\u001b[32m     Running\u001b[0m `target/debug/fp 0.11724137931034484 ../taxis_sens_avg_3/taxis_sens_3/0.11724137931034484`\n"
     ]
    },
    {
     "name": "stdout",
     "output_type": "stream",
     "text": [
      "4 / 5,   19 / 30\n"
     ]
    },
    {
     "name": "stderr",
     "output_type": "stream",
     "text": [
      "\u001b[1m\u001b[32m    Finished\u001b[0m dev [unoptimized + debuginfo] target(s) in 0.04s\n",
      "\u001b[1m\u001b[32m     Running\u001b[0m `target/debug/fp 0.12413793103448277 ../taxis_sens_avg_3/taxis_sens_3/0.12413793103448277`\n"
     ]
    },
    {
     "name": "stdout",
     "output_type": "stream",
     "text": [
      "4 / 5,   20 / 30\n"
     ]
    },
    {
     "name": "stderr",
     "output_type": "stream",
     "text": [
      "\u001b[1m\u001b[32m    Finished\u001b[0m dev [unoptimized + debuginfo] target(s) in 0.02s\n",
      "\u001b[1m\u001b[32m     Running\u001b[0m `target/debug/fp 0.1310344827586207 ../taxis_sens_avg_3/taxis_sens_3/0.1310344827586207`\n"
     ]
    },
    {
     "name": "stdout",
     "output_type": "stream",
     "text": [
      "4 / 5,   21 / 30\n"
     ]
    },
    {
     "name": "stderr",
     "output_type": "stream",
     "text": [
      "\u001b[1m\u001b[32m    Finished\u001b[0m dev [unoptimized + debuginfo] target(s) in 0.02s\n",
      "\u001b[1m\u001b[32m     Running\u001b[0m `target/debug/fp 0.13793103448275865 ../taxis_sens_avg_3/taxis_sens_3/0.13793103448275865`\n"
     ]
    },
    {
     "name": "stdout",
     "output_type": "stream",
     "text": [
      "4 / 5,   22 / 30\n"
     ]
    },
    {
     "name": "stderr",
     "output_type": "stream",
     "text": [
      "\u001b[1m\u001b[32m    Finished\u001b[0m dev [unoptimized + debuginfo] target(s) in 0.02s\n",
      "\u001b[1m\u001b[32m     Running\u001b[0m `target/debug/fp 0.14482758620689656 ../taxis_sens_avg_3/taxis_sens_3/0.14482758620689656`\n"
     ]
    },
    {
     "name": "stdout",
     "output_type": "stream",
     "text": [
      "4 / 5,   23 / 30\n"
     ]
    },
    {
     "name": "stderr",
     "output_type": "stream",
     "text": [
      "\u001b[1m\u001b[32m    Finished\u001b[0m dev [unoptimized + debuginfo] target(s) in 0.03s\n",
      "\u001b[1m\u001b[32m     Running\u001b[0m `target/debug/fp 0.1517241379310345 ../taxis_sens_avg_3/taxis_sens_3/0.1517241379310345`\n"
     ]
    },
    {
     "name": "stdout",
     "output_type": "stream",
     "text": [
      "4 / 5,   24 / 30\n"
     ]
    },
    {
     "name": "stderr",
     "output_type": "stream",
     "text": [
      "\u001b[1m\u001b[32m    Finished\u001b[0m dev [unoptimized + debuginfo] target(s) in 0.02s\n",
      "\u001b[1m\u001b[32m     Running\u001b[0m `target/debug/fp 0.15862068965517243 ../taxis_sens_avg_3/taxis_sens_3/0.15862068965517243`\n"
     ]
    },
    {
     "name": "stdout",
     "output_type": "stream",
     "text": [
      "4 / 5,   25 / 30\n"
     ]
    },
    {
     "name": "stderr",
     "output_type": "stream",
     "text": [
      "\u001b[1m\u001b[32m    Finished\u001b[0m dev [unoptimized + debuginfo] target(s) in 0.02s\n",
      "\u001b[1m\u001b[32m     Running\u001b[0m `target/debug/fp 0.16551724137931037 ../taxis_sens_avg_3/taxis_sens_3/0.16551724137931037`\n"
     ]
    },
    {
     "name": "stdout",
     "output_type": "stream",
     "text": [
      "4 / 5,   26 / 30\n"
     ]
    },
    {
     "name": "stderr",
     "output_type": "stream",
     "text": [
      "\u001b[1m\u001b[32m    Finished\u001b[0m dev [unoptimized + debuginfo] target(s) in 0.03s\n",
      "\u001b[1m\u001b[32m     Running\u001b[0m `target/debug/fp 0.1724137931034483 ../taxis_sens_avg_3/taxis_sens_3/0.1724137931034483`\n"
     ]
    },
    {
     "name": "stdout",
     "output_type": "stream",
     "text": [
      "4 / 5,   27 / 30\n"
     ]
    },
    {
     "name": "stderr",
     "output_type": "stream",
     "text": [
      "\u001b[1m\u001b[32m    Finished\u001b[0m dev [unoptimized + debuginfo] target(s) in 0.19s\n",
      "\u001b[1m\u001b[32m     Running\u001b[0m `target/debug/fp 0.17931034482758623 ../taxis_sens_avg_3/taxis_sens_3/0.17931034482758623`\n"
     ]
    },
    {
     "name": "stdout",
     "output_type": "stream",
     "text": [
      "4 / 5,   28 / 30\n"
     ]
    },
    {
     "name": "stderr",
     "output_type": "stream",
     "text": [
      "\u001b[1m\u001b[32m    Finished\u001b[0m dev [unoptimized + debuginfo] target(s) in 0.03s\n",
      "\u001b[1m\u001b[32m     Running\u001b[0m `target/debug/fp 0.18620689655172415 ../taxis_sens_avg_3/taxis_sens_3/0.18620689655172415`\n"
     ]
    },
    {
     "name": "stdout",
     "output_type": "stream",
     "text": [
      "4 / 5,   29 / 30\n"
     ]
    },
    {
     "name": "stderr",
     "output_type": "stream",
     "text": [
      "\u001b[1m\u001b[32m    Finished\u001b[0m dev [unoptimized + debuginfo] target(s) in 0.03s\n",
      "\u001b[1m\u001b[32m     Running\u001b[0m `target/debug/fp 0.1931034482758621 ../taxis_sens_avg_3/taxis_sens_3/0.1931034482758621`\n"
     ]
    },
    {
     "name": "stdout",
     "output_type": "stream",
     "text": [
      "4 / 5,   30 / 30\n"
     ]
    },
    {
     "name": "stderr",
     "output_type": "stream",
     "text": [
      "\u001b[1m\u001b[32m    Finished\u001b[0m dev [unoptimized + debuginfo] target(s) in 0.02s\n",
      "\u001b[1m\u001b[32m     Running\u001b[0m `target/debug/fp 0.2 ../taxis_sens_avg_3/taxis_sens_3/0.2`\n"
     ]
    },
    {
     "name": "stdout",
     "output_type": "stream",
     "text": [
      "5 / 5,   1 / 30\n"
     ]
    },
    {
     "name": "stderr",
     "output_type": "stream",
     "text": [
      "\u001b[1m\u001b[32m    Finished\u001b[0m dev [unoptimized + debuginfo] target(s) in 0.02s\n",
      "\u001b[1m\u001b[32m     Running\u001b[0m `target/debug/fp 0.0 ../taxis_sens_avg_3/taxis_sens_4/0.0`\n"
     ]
    },
    {
     "name": "stdout",
     "output_type": "stream",
     "text": [
      "5 / 5,   2 / 30\n"
     ]
    },
    {
     "name": "stderr",
     "output_type": "stream",
     "text": [
      "\u001b[1m\u001b[32m    Finished\u001b[0m dev [unoptimized + debuginfo] target(s) in 0.06s\n",
      "\u001b[1m\u001b[32m     Running\u001b[0m `target/debug/fp 0.006896551724137932 ../taxis_sens_avg_3/taxis_sens_4/0.006896551724137932`\n"
     ]
    },
    {
     "name": "stdout",
     "output_type": "stream",
     "text": [
      "5 / 5,   3 / 30\n"
     ]
    },
    {
     "name": "stderr",
     "output_type": "stream",
     "text": [
      "\u001b[1m\u001b[32m    Finished\u001b[0m dev [unoptimized + debuginfo] target(s) in 0.03s\n",
      "\u001b[1m\u001b[32m     Running\u001b[0m `target/debug/fp 0.013793103448275864 ../taxis_sens_avg_3/taxis_sens_4/0.013793103448275864`\n"
     ]
    },
    {
     "name": "stdout",
     "output_type": "stream",
     "text": [
      "5 / 5,   4 / 30\n"
     ]
    },
    {
     "name": "stderr",
     "output_type": "stream",
     "text": [
      "\u001b[1m\u001b[32m    Finished\u001b[0m dev [unoptimized + debuginfo] target(s) in 0.03s\n",
      "\u001b[1m\u001b[32m     Running\u001b[0m `target/debug/fp 0.020689655172413796 ../taxis_sens_avg_3/taxis_sens_4/0.020689655172413796`\n"
     ]
    },
    {
     "name": "stdout",
     "output_type": "stream",
     "text": [
      "5 / 5,   5 / 30\n"
     ]
    },
    {
     "name": "stderr",
     "output_type": "stream",
     "text": [
      "\u001b[1m\u001b[32m    Finished\u001b[0m dev [unoptimized + debuginfo] target(s) in 0.02s\n",
      "\u001b[1m\u001b[32m     Running\u001b[0m `target/debug/fp 0.027586206896551727 ../taxis_sens_avg_3/taxis_sens_4/0.027586206896551727`\n"
     ]
    },
    {
     "name": "stdout",
     "output_type": "stream",
     "text": [
      "5 / 5,   6 / 30\n"
     ]
    },
    {
     "name": "stderr",
     "output_type": "stream",
     "text": [
      "\u001b[1m\u001b[32m    Finished\u001b[0m dev [unoptimized + debuginfo] target(s) in 0.03s\n",
      "\u001b[1m\u001b[32m     Running\u001b[0m `target/debug/fp 0.03448275862068966 ../taxis_sens_avg_3/taxis_sens_4/0.03448275862068966`\n"
     ]
    },
    {
     "name": "stdout",
     "output_type": "stream",
     "text": [
      "5 / 5,   7 / 30\n"
     ]
    },
    {
     "name": "stderr",
     "output_type": "stream",
     "text": [
      "\u001b[1m\u001b[32m    Finished\u001b[0m dev [unoptimized + debuginfo] target(s) in 0.03s\n",
      "\u001b[1m\u001b[32m     Running\u001b[0m `target/debug/fp 0.04137931034482759 ../taxis_sens_avg_3/taxis_sens_4/0.04137931034482759`\n"
     ]
    },
    {
     "name": "stdout",
     "output_type": "stream",
     "text": [
      "5 / 5,   8 / 30\n"
     ]
    },
    {
     "name": "stderr",
     "output_type": "stream",
     "text": [
      "\u001b[1m\u001b[32m    Finished\u001b[0m dev [unoptimized + debuginfo] target(s) in 0.02s\n",
      "\u001b[1m\u001b[32m     Running\u001b[0m `target/debug/fp 0.048275862068965524 ../taxis_sens_avg_3/taxis_sens_4/0.048275862068965524`\n"
     ]
    },
    {
     "name": "stdout",
     "output_type": "stream",
     "text": [
      "5 / 5,   9 / 30\n"
     ]
    },
    {
     "name": "stderr",
     "output_type": "stream",
     "text": [
      "\u001b[1m\u001b[32m    Finished\u001b[0m dev [unoptimized + debuginfo] target(s) in 0.02s\n",
      "\u001b[1m\u001b[32m     Running\u001b[0m `target/debug/fp 0.055172413793103454 ../taxis_sens_avg_3/taxis_sens_4/0.055172413793103454`\n"
     ]
    },
    {
     "name": "stdout",
     "output_type": "stream",
     "text": [
      "5 / 5,   10 / 30\n"
     ]
    },
    {
     "name": "stderr",
     "output_type": "stream",
     "text": [
      "\u001b[1m\u001b[32m    Finished\u001b[0m dev [unoptimized + debuginfo] target(s) in 0.02s\n",
      "\u001b[1m\u001b[32m     Running\u001b[0m `target/debug/fp 0.062068965517241385 ../taxis_sens_avg_3/taxis_sens_4/0.062068965517241385`\n"
     ]
    },
    {
     "name": "stdout",
     "output_type": "stream",
     "text": [
      "5 / 5,   11 / 30\n"
     ]
    },
    {
     "name": "stderr",
     "output_type": "stream",
     "text": [
      "\u001b[1m\u001b[32m    Finished\u001b[0m dev [unoptimized + debuginfo] target(s) in 0.02s\n",
      "\u001b[1m\u001b[32m     Running\u001b[0m `target/debug/fp 0.06896551724137932 ../taxis_sens_avg_3/taxis_sens_4/0.06896551724137932`\n"
     ]
    },
    {
     "name": "stdout",
     "output_type": "stream",
     "text": [
      "5 / 5,   12 / 30\n"
     ]
    },
    {
     "name": "stderr",
     "output_type": "stream",
     "text": [
      "\u001b[1m\u001b[32m    Finished\u001b[0m dev [unoptimized + debuginfo] target(s) in 0.02s\n",
      "\u001b[1m\u001b[32m     Running\u001b[0m `target/debug/fp 0.07586206896551725 ../taxis_sens_avg_3/taxis_sens_4/0.07586206896551725`\n"
     ]
    },
    {
     "name": "stdout",
     "output_type": "stream",
     "text": [
      "5 / 5,   13 / 30\n"
     ]
    },
    {
     "name": "stderr",
     "output_type": "stream",
     "text": [
      "\u001b[1m\u001b[32m    Finished\u001b[0m dev [unoptimized + debuginfo] target(s) in 0.17s\n",
      "\u001b[1m\u001b[32m     Running\u001b[0m `target/debug/fp 0.08275862068965519 ../taxis_sens_avg_3/taxis_sens_4/0.08275862068965519`\n"
     ]
    },
    {
     "name": "stdout",
     "output_type": "stream",
     "text": [
      "5 / 5,   14 / 30\n"
     ]
    },
    {
     "name": "stderr",
     "output_type": "stream",
     "text": [
      "\u001b[1m\u001b[32m    Finished\u001b[0m dev [unoptimized + debuginfo] target(s) in 0.02s\n",
      "\u001b[1m\u001b[32m     Running\u001b[0m `target/debug/fp 0.08965517241379312 ../taxis_sens_avg_3/taxis_sens_4/0.08965517241379312`\n"
     ]
    },
    {
     "name": "stdout",
     "output_type": "stream",
     "text": [
      "5 / 5,   15 / 30\n"
     ]
    },
    {
     "name": "stderr",
     "output_type": "stream",
     "text": [
      "\u001b[1m\u001b[32m    Finished\u001b[0m dev [unoptimized + debuginfo] target(s) in 0.03s\n",
      "\u001b[1m\u001b[32m     Running\u001b[0m `target/debug/fp 0.09655172413793105 ../taxis_sens_avg_3/taxis_sens_4/0.09655172413793105`\n"
     ]
    },
    {
     "name": "stdout",
     "output_type": "stream",
     "text": [
      "5 / 5,   16 / 30\n"
     ]
    },
    {
     "name": "stderr",
     "output_type": "stream",
     "text": [
      "\u001b[1m\u001b[32m    Finished\u001b[0m dev [unoptimized + debuginfo] target(s) in 0.05s\n",
      "\u001b[1m\u001b[32m     Running\u001b[0m `target/debug/fp 0.10344827586206898 ../taxis_sens_avg_3/taxis_sens_4/0.10344827586206898`\n"
     ]
    },
    {
     "name": "stdout",
     "output_type": "stream",
     "text": [
      "5 / 5,   17 / 30\n"
     ]
    },
    {
     "name": "stderr",
     "output_type": "stream",
     "text": [
      "\u001b[1m\u001b[32m    Finished\u001b[0m dev [unoptimized + debuginfo] target(s) in 0.04s\n",
      "\u001b[1m\u001b[32m     Running\u001b[0m `target/debug/fp 0.11034482758620691 ../taxis_sens_avg_3/taxis_sens_4/0.11034482758620691`\n"
     ]
    },
    {
     "name": "stdout",
     "output_type": "stream",
     "text": [
      "5 / 5,   18 / 30\n"
     ]
    },
    {
     "name": "stderr",
     "output_type": "stream",
     "text": [
      "\u001b[1m\u001b[32m    Finished\u001b[0m dev [unoptimized + debuginfo] target(s) in 0.02s\n",
      "\u001b[1m\u001b[32m     Running\u001b[0m `target/debug/fp 0.11724137931034484 ../taxis_sens_avg_3/taxis_sens_4/0.11724137931034484`\n"
     ]
    },
    {
     "name": "stdout",
     "output_type": "stream",
     "text": [
      "5 / 5,   19 / 30\n"
     ]
    },
    {
     "name": "stderr",
     "output_type": "stream",
     "text": [
      "\u001b[1m\u001b[32m    Finished\u001b[0m dev [unoptimized + debuginfo] target(s) in 0.03s\n",
      "\u001b[1m\u001b[32m     Running\u001b[0m `target/debug/fp 0.12413793103448277 ../taxis_sens_avg_3/taxis_sens_4/0.12413793103448277`\n"
     ]
    },
    {
     "name": "stdout",
     "output_type": "stream",
     "text": [
      "5 / 5,   20 / 30\n"
     ]
    },
    {
     "name": "stderr",
     "output_type": "stream",
     "text": [
      "\u001b[1m\u001b[32m    Finished\u001b[0m dev [unoptimized + debuginfo] target(s) in 0.08s\n",
      "\u001b[1m\u001b[32m     Running\u001b[0m `target/debug/fp 0.1310344827586207 ../taxis_sens_avg_3/taxis_sens_4/0.1310344827586207`\n"
     ]
    },
    {
     "name": "stdout",
     "output_type": "stream",
     "text": [
      "5 / 5,   21 / 30\n"
     ]
    },
    {
     "name": "stderr",
     "output_type": "stream",
     "text": [
      "\u001b[1m\u001b[32m    Finished\u001b[0m dev [unoptimized + debuginfo] target(s) in 0.03s\n",
      "\u001b[1m\u001b[32m     Running\u001b[0m `target/debug/fp 0.13793103448275865 ../taxis_sens_avg_3/taxis_sens_4/0.13793103448275865`\n"
     ]
    },
    {
     "name": "stdout",
     "output_type": "stream",
     "text": [
      "5 / 5,   22 / 30\n"
     ]
    },
    {
     "name": "stderr",
     "output_type": "stream",
     "text": [
      "\u001b[1m\u001b[32m    Finished\u001b[0m dev [unoptimized + debuginfo] target(s) in 0.15s\n",
      "\u001b[1m\u001b[32m     Running\u001b[0m `target/debug/fp 0.14482758620689656 ../taxis_sens_avg_3/taxis_sens_4/0.14482758620689656`\n"
     ]
    },
    {
     "name": "stdout",
     "output_type": "stream",
     "text": [
      "5 / 5,   23 / 30\n"
     ]
    },
    {
     "name": "stderr",
     "output_type": "stream",
     "text": [
      "\u001b[1m\u001b[32m    Finished\u001b[0m dev [unoptimized + debuginfo] target(s) in 0.02s\n",
      "\u001b[1m\u001b[32m     Running\u001b[0m `target/debug/fp 0.1517241379310345 ../taxis_sens_avg_3/taxis_sens_4/0.1517241379310345`\n"
     ]
    },
    {
     "name": "stdout",
     "output_type": "stream",
     "text": [
      "5 / 5,   24 / 30\n"
     ]
    },
    {
     "name": "stderr",
     "output_type": "stream",
     "text": [
      "\u001b[1m\u001b[32m    Finished\u001b[0m dev [unoptimized + debuginfo] target(s) in 0.02s\n",
      "\u001b[1m\u001b[32m     Running\u001b[0m `target/debug/fp 0.15862068965517243 ../taxis_sens_avg_3/taxis_sens_4/0.15862068965517243`\n"
     ]
    },
    {
     "name": "stdout",
     "output_type": "stream",
     "text": [
      "5 / 5,   25 / 30\n"
     ]
    },
    {
     "name": "stderr",
     "output_type": "stream",
     "text": [
      "\u001b[1m\u001b[32m    Finished\u001b[0m dev [unoptimized + debuginfo] target(s) in 0.02s\n",
      "\u001b[1m\u001b[32m     Running\u001b[0m `target/debug/fp 0.16551724137931037 ../taxis_sens_avg_3/taxis_sens_4/0.16551724137931037`\n"
     ]
    },
    {
     "name": "stdout",
     "output_type": "stream",
     "text": [
      "5 / 5,   26 / 30\n"
     ]
    },
    {
     "name": "stderr",
     "output_type": "stream",
     "text": [
      "\u001b[1m\u001b[32m    Finished\u001b[0m dev [unoptimized + debuginfo] target(s) in 0.01s\n",
      "\u001b[1m\u001b[32m     Running\u001b[0m `target/debug/fp 0.1724137931034483 ../taxis_sens_avg_3/taxis_sens_4/0.1724137931034483`\n"
     ]
    },
    {
     "name": "stdout",
     "output_type": "stream",
     "text": [
      "5 / 5,   27 / 30\n"
     ]
    },
    {
     "name": "stderr",
     "output_type": "stream",
     "text": [
      "\u001b[1m\u001b[32m    Finished\u001b[0m dev [unoptimized + debuginfo] target(s) in 0.02s\n",
      "\u001b[1m\u001b[32m     Running\u001b[0m `target/debug/fp 0.17931034482758623 ../taxis_sens_avg_3/taxis_sens_4/0.17931034482758623`\n"
     ]
    },
    {
     "name": "stdout",
     "output_type": "stream",
     "text": [
      "5 / 5,   28 / 30\n"
     ]
    },
    {
     "name": "stderr",
     "output_type": "stream",
     "text": [
      "\u001b[1m\u001b[32m    Finished\u001b[0m dev [unoptimized + debuginfo] target(s) in 0.06s\n",
      "\u001b[1m\u001b[32m     Running\u001b[0m `target/debug/fp 0.18620689655172415 ../taxis_sens_avg_3/taxis_sens_4/0.18620689655172415`\n"
     ]
    },
    {
     "name": "stdout",
     "output_type": "stream",
     "text": [
      "5 / 5,   29 / 30\n"
     ]
    },
    {
     "name": "stderr",
     "output_type": "stream",
     "text": [
      "\u001b[1m\u001b[32m    Finished\u001b[0m dev [unoptimized + debuginfo] target(s) in 0.02s\n",
      "\u001b[1m\u001b[32m     Running\u001b[0m `target/debug/fp 0.1931034482758621 ../taxis_sens_avg_3/taxis_sens_4/0.1931034482758621`\n"
     ]
    },
    {
     "name": "stdout",
     "output_type": "stream",
     "text": [
      "5 / 5,   30 / 30\n"
     ]
    },
    {
     "name": "stderr",
     "output_type": "stream",
     "text": [
      "\u001b[1m\u001b[32m    Finished\u001b[0m dev [unoptimized + debuginfo] target(s) in 0.03s\n",
      "\u001b[1m\u001b[32m     Running\u001b[0m `target/debug/fp 0.2 ../taxis_sens_avg_3/taxis_sens_4/0.2`\n"
     ]
    }
   ],
   "source": [
    "# taxis_list = np.linspace(0, 0.2, 30)\n",
    "# for k in range(5):\n",
    "#     for i, taxis in enumerate(taxis_list):\n",
    "#         print(f\"{k+1 } / 5,   {i+1} / 30\")\n",
    "#         pros = subprocess.Popen(f\"cd fp && cargo run {taxis} ../taxis_sens_avg_3/taxis_sens_{k}/{taxis}\", shell=True, stdout=subprocess.DEVNULL)\n",
    "#         pros.wait()"
   ]
  },
  {
   "cell_type": "code",
   "execution_count": 3,
   "metadata": {},
   "outputs": [],
   "source": [
    "def kernel(x, loc):\n",
    "    return 0.5*np.exp(-(25*(x - loc))**2)"
   ]
  },
  {
   "cell_type": "code",
   "execution_count": 3,
   "metadata": {},
   "outputs": [],
   "source": [
    "def K(t,ps):\n",
    "    total = 0\n",
    "    for i, p in enumerate(ps):\n",
    "        for j, q in enumerate(ps):\n",
    "            if i!=j and abs(p-q) < t:\n",
    "                total += 1\n",
    "    return total / len(ps)**2\n",
    "\n",
    "def rust_k(ts, vs):\n",
    "    with open(\"temp.csv\" , mode= \"w\") as f:\n",
    "        wtr = csv.writer(f)\n",
    "\n",
    "        wtr.writerow(ts)\n",
    "        wtr.writerow(vs)\n",
    "\n",
    "    rust_path = \"~/Documents/HML/cleaning/ABM/fp/ripleys_k/target/release/ripleys_k\"\n",
    "    current_path = os.getcwd()\n",
    "    \n",
    "    os.system(f\"{rust_path} {current_path}/temp.csv {current_path}/temp_out.csv 0\")\n",
    "\n",
    "    with open(\"temp_out.csv\") as f:\n",
    "        reader = csv.reader(f)\n",
    "\n",
    "        for v in reader:\n",
    "            out = [float(a) for a in v]\n",
    "            break\n",
    "    \n",
    "    os.system(f\"rm {current_path}/temp.csv\")\n",
    "    os.system(f\"rm {current_path}/temp_out.csv\")\n",
    "    return out\n",
    "    \n",
    "def rust_k_circ(ts, vs):\n",
    "    with open(\"temp.csv\" , mode= \"w\") as f:\n",
    "        wtr = csv.writer(f)\n",
    "\n",
    "        wtr.writerow(ts)\n",
    "        wtr.writerow(vs)\n",
    "\n",
    "    rust_path = \"~/Documents/HML/cleaning/ABM/fp/ripleys_k/target/release/ripleys_k\"\n",
    "    current_path = os.getcwd()\n",
    "    \n",
    "    os.system(f\"{rust_path} {current_path}/temp.csv {current_path}/temp_out.csv 1\")\n",
    "\n",
    "    with open(\"temp_out.csv\") as f:\n",
    "        reader = csv.reader(f)\n",
    "\n",
    "        for v in reader:\n",
    "            out = [float(a) for a in v]\n",
    "            break\n",
    "    \n",
    "    os.system(f\"rm {current_path}/temp.csv\")\n",
    "    os.system(f\"rm {current_path}/temp_out.csv\")\n",
    "    return out\n",
    "\n",
    "def expectation_diff(vs, res=50, circ=True):\n",
    "    if circ:\n",
    "        ts = np.linspace(0,0.5,res)\n",
    "        ks = rust_k_circ(ts,vs)\n",
    "    else:\n",
    "        ts = np.linspace(0,1,res)\n",
    "        ks = rust_k(ts,vs)\n",
    "    ex_ks = 2*ts\n",
    "    diffs = np.abs(ks-ex_ks)\n",
    "    return np.average(diffs), ts, ks"
   ]
  },
  {
   "cell_type": "code",
   "execution_count": 4,
   "metadata": {},
   "outputs": [],
   "source": [
    "data = []\n",
    "# base_dir = \"taxis_sens_avg\"\n",
    "base_dir = \"taxis_sens_avg_2\"\n",
    "run_dir_list = np.sort(os.listdir(base_dir))\n",
    "for run_dir in run_dir_list:\n",
    "    local_dir_list = np.sort(os.listdir(f\"{base_dir}/\" +run_dir ))\n",
    "    local_data = []\n",
    "    for dir_name in local_dir_list:\n",
    "        dir_len = len(os.listdir(f\"{base_dir}/{run_dir}/{dir_name}\"))\n",
    "        out = []\n",
    "        with open(f\"{base_dir}/{run_dir}/\"+dir_name+f\"/{dir_len-1}.csv\") as f:\n",
    "            reader = csv.reader(f)\n",
    "\n",
    "            for v in reader:\n",
    "                out.append([float(a) for a in v])\n",
    "                break\n",
    "            local_data.append(out[0])\n",
    "    data.append(local_data)"
   ]
  },
  {
   "cell_type": "code",
   "execution_count": 6,
   "metadata": {},
   "outputs": [],
   "source": [
    "taxis_list = [float(x) for x in np.sort(os.listdir(\"taxis_sens_avg_3/taxis_sens_0\"))]\n",
    "for i,taxis in enumerate(taxis_list):\n",
    "    # fig, ax = plt.subplots(2, 1, height_ratios=[0.7,0.3])\n",
    "    for run in range(5):\n",
    "        met, ts, ks_rust = expectation_diff(data[run][i])\n",
    "    #     ax[0].plot(ts,ks_rust, label=f\"Run {run}\")\n",
    "    #     ax[1].scatter(data[run][i], [f\"Run {run}\" for _ in range(len(data[run][i]))], alpha=0.1)\n",
    "    # # ax[0].plot(ts,2*ts - ts**2, linestyle=\"dashed\", color=\"black\", label=\"Expectation\")\n",
    "    # ax[0].plot(ts,2*ts, linestyle=\"dashed\", color=\"black\", label=\"Expectation\")\n",
    "    # ax[0].set_xlabel(\"$t$ value\")\n",
    "    # ax[0].set_ylabel(\"$\\widehat{K}(t)$ value\")\n",
    "    # ax[0].legend()\n",
    "    # ax[0].set_title(\"Ripleys K Function\")\n",
    "    # ax[1].set_xlabel(\"Location\")\n",
    "    # ax[1].set_title(\"Shimp Location\")\n",
    "\n",
    "    # fig.suptitle(f\"Taxis of {round(taxis,5)}\")\n",
    "    # fig.tight_layout()\n",
    "    # plt.savefig(f\"plots/taxis_sens_avg_3/{i}.png\")\n",
    "    # plt.show()\n"
   ]
  },
  {
   "cell_type": "code",
   "execution_count": 7,
   "metadata": {},
   "outputs": [],
   "source": [
    "metrics = []\n",
    "for i in range(len(taxis_list)):\n",
    "    out = []\n",
    "    for run in range(5):\n",
    "        met = expectation_diff(data[run][i],30)[0]\n",
    "        out.append(met)\n",
    "    metrics.append(out)\n"
   ]
  },
  {
   "cell_type": "code",
   "execution_count": 25,
   "metadata": {},
   "outputs": [
    {
     "data": {
      "image/png": "[encoded data removed]",
      "text/plain": [
       "<Figure size 1100x850 with 2 Axes>"
      ]
     },
     "metadata": {},
     "output_type": "display_data"
    }
   ],
   "source": [
    "fig, ax = plt.subplots(2,1,sharex=True,height_ratios=[0.4,0.7])\n",
    "avg_metrics = [np.average(d) for d in metrics]\n",
    "ax[0].plot(taxis_list,avg_metrics)\n",
    "# ax[0].title(\"Taxis vs Ripley's K Expectation Distance\")\n",
    "ax[0].set_xlabel(\"Taxis\")\n",
    "ax[0].set_ylabel(\"Expectation Distance\")\n",
    "# plt.savefig(\"plots/taxis_sens_avg_3/ex_diff.png\")\n",
    "d_slice=1\n",
    "for i in range(30):\n",
    "    ax[1].scatter(np.zeros_like(data[d_slice][i])+taxis_list[i], data[d_slice][i], alpha=0.1)\n",
    "ax[1].set_xlabel(\"Taxis\")\n",
    "ax[1].set_ylabel(\"Location\")\n",
    "ax[1].set_yticks([0,0.5,1])\n",
    "fig.set_figheight(8.5)\n",
    "fig.set_figwidth(11)\n",
    "fig.tight_layout()\n",
    "fig.suptitle(\"Taxis vs Expectation Distance ($\\delta = 0.01$, $m = 0$ )\")\n",
    "plt.show()\n"
   ]
  },
  {
   "cell_type": "code",
   "execution_count": 30,
   "metadata": {},
   "outputs": [],
   "source": [
    "dir_to_get = \"taxis_sens_avg_2/taxis_sens_0/0.24137931034482757/\"\n",
    "run_len = len(os.listdir(dir_to_get))\n",
    "run_data = []\n",
    "fish = []\n",
    "for i in range(run_len):\n",
    "    out = []\n",
    "    with open(dir_to_get+f\"{i}.csv\") as f:\n",
    "        reader = csv.reader(f)\n",
    "\n",
    "        for v in reader:\n",
    "            out.append([float(a) for a in v])\n",
    "        run_data.append(out[0])\n",
    "        fish.append(out[1])"
   ]
  },
  {
   "cell_type": "code",
   "execution_count": 31,
   "metadata": {},
   "outputs": [
    {
     "data": {
      "image/png": "[encoded data removed]",
      "text/plain": [
       "<Figure size 640x480 with 1 Axes>"
      ]
     },
     "metadata": {},
     "output_type": "display_data"
    }
   ],
   "source": [
    "equil_loc = 115\n",
    "plt.plot([len(d) for d in run_data], label=\"Station Count\")\n",
    "plt.plot([0,run_len],[equil_loc,equil_loc], color= \"black\", linestyle=\"dashed\", label=\"Expected Equilibrium\")\n",
    "plt.plot([0,run_len],[equil_loc*1.15,equil_loc*1.15], color = \"grey\", linestyle=\"dotted\", label=\"$\\pm$15%\")\n",
    "plt.plot([0,run_len],[equil_loc*0.85,equil_loc*0.85], color = \"grey\", linestyle=\"dotted\")\n",
    "plt.legend()\n",
    "plt.title(\"Stopping after 400 steps within 15% of predicted Equilibrium \")\n",
    "plt.xlabel(\"Timestep\")\n",
    "plt.ylabel(\"Number of Shrimp Stations\")\n",
    "plt.savefig(\"plots/stopping.png\")"
   ]
  },
  {
   "cell_type": "code",
   "execution_count": 37,
   "metadata": {},
   "outputs": [
    {
     "data": {
      "text/plain": [
       "Text(0.5, 1.0, '119')"
      ]
     },
     "execution_count": 37,
     "metadata": {},
     "output_type": "execute_result"
    },
    {
     "data": {
      "image/png": "[encoded data removed]",
      "text/plain": [
       "<Figure size 640x480 with 1 Axes>"
      ]
     },
     "metadata": {},
     "output_type": "display_data"
    }
   ],
   "source": [
    "ids = -1\n",
    "plt.scatter(run_data[ids],np.zeros_like(run_data[ids]),alpha=0.2)\n",
    "plt.scatter(fish[ids],np.zeros_like(fish[ids])+1,alpha=0.2)\n",
    "plt.title(len(run_data[ids]))"
   ]
  },
  {
   "cell_type": "code",
   "execution_count": 36,
   "metadata": {},
   "outputs": [
    {
     "data": {
      "text/plain": [
       "[<matplotlib.lines.Line2D at 0x7fe29a119d30>]"
      ]
     },
     "execution_count": 36,
     "metadata": {},
     "output_type": "execute_result"
    },
    {
     "data": {
      "image/png": "[encoded data removed]",
      "text/plain": [
       "<Figure size 640x480 with 1 Axes>"
      ]
     },
     "metadata": {},
     "output_type": "display_data"
    }
   ],
   "source": [
    "ts = np.linspace(0,0.5,70)\n",
    "ks = rust_k_circ(ts,run_data[-1])\n",
    "plt.plot(ts,ks)\n",
    "plt.plot(ts,ts*2, color=\"black\", linestyle=\"dashed\")"
   ]
  },
  {
   "cell_type": "code",
   "execution_count": null,
   "metadata": {},
   "outputs": [],
   "source": []
  }
 ],
 "metadata": {
  "kernelspec": {
   "display_name": "base",
   "language": "python",
   "name": "python3"
  },
  "language_info": {
   "codemirror_mode": {
    "name": "ipython",
    "version": 3
   },
   "file_extension": ".py",
   "mimetype": "text/x-python",
   "name": "python",
   "nbconvert_exporter": "python",
   "pygments_lexer": "ipython3",
   "version": "3.9.12"
  }
 },
 "nbformat": 4,
 "nbformat_minor": 2
}
